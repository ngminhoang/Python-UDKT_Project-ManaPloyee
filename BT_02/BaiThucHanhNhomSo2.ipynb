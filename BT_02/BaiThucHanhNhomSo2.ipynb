{
 "cells": [
  {
   "cell_type": "code",
   "execution_count": 46,
   "metadata": {},
   "outputs": [],
   "source": [
    "import pandas as pd\n"
   ]
  },
  {
   "cell_type": "code",
   "execution_count": 47,
   "metadata": {},
   "outputs": [],
   "source": [
    "\n",
    "data = pd.read_excel('DuLieuThucHanh2_66PM34_GuiSV_V1.xlsx', sheet_name=None)\n",
    "\n",
    "df_sinh_vien = data['Sinh Vien']\n",
    "df_diem_mon_1 = data['Diem Mon 1']\n",
    "df_diem_mon_2 = data['Diem Mon 2']\n",
    "df_diem_mon_3 = data['Diem Mon 3']\n",
    "df_diem_mon_4 = data['Diem Mon 4']\n"
   ]
  },
  {
   "cell_type": "code",
   "execution_count": 48,
   "metadata": {},
   "outputs": [
    {
     "name": "stdout",
     "output_type": "stream",
     "text": [
      "    STT  Ma Sinh Vien             Ho Ten  Ngay Sinh Gioi Tinh Lop Quan Ly\n",
      "0     1        189456    Hoang Minh Giam 2003-05-11       Nam       66PM1\n",
      "1     2        198436    Nguyen Duc Tuan 2003-06-17       Nam       66PM5\n",
      "2     3        208472   Huynh Minh Thanh 2003-01-21       Nam      66MHT1\n",
      "3     4        208473  Truong Viet Hoang 2003-01-22        Nu      66MHT2\n",
      "4     5        208474   Truong Viet Hung 2003-01-23       Nam      66MHT2\n",
      "5     6        208475   Truong Viet Hang 2003-01-24        Nu      66MHT2\n",
      "6     7        208476   Truong Viet Hoan 2003-01-25       Nam      66MHT1\n",
      "7     8        208477   Truong Van Hoang 2003-01-26       Nam      66MHT1\n",
      "8     9        208478    Truong Van Hung 2003-01-27        Nu      66MHT2\n",
      "9    10        208479    Truong Van Hang 2003-01-28        Nu      66MHT1\n",
      "10   11        208480    Truong Van Hoan 2003-01-29       Nam       66PM1\n",
      "11   12        208481  Truong Minh Hoang 2003-01-30        Nu       66PM1\n",
      "12   13        208482   Truong Minh Hung 2003-01-31        Nu       66PM5\n",
      "13   14        208483   Truong Minh Hang 2003-02-01       Nam       66PM5\n",
      "14   15        208484   Truong Minh Hoan 2003-02-02       Nam       66PM1\n",
      "15   16        208485  Truong Minh Hoang 2003-02-03       Nam      66MHT2\n",
      "16   17        208486  Nguyen Viet Hoang 2003-02-04        Nu       66PM1\n",
      "17   18        208487   Trinh Viet Hoang 2003-02-05       Nam       66PM1\n",
      "18   19        208488      Le Viet Hoang 2003-02-06        Nu      66MHT2\n",
      "19   20        208489    Tran Viet Hoang 2003-02-07       Nam       66PM5\n",
      "20   21        208490    Pham Viet Hoang 2003-02-08       Nam      66MHT2\n",
      "21   22        208491     Dao Viet Hoang 2003-02-09        Nu       66PM5\n",
      "22   23        208492      Vo Viet Hoang 2003-02-10        Nu       66PM5\n"
     ]
    }
   ],
   "source": [
    "print(df_sinh_vien)"
   ]
  },
  {
   "cell_type": "code",
   "execution_count": 49,
   "metadata": {},
   "outputs": [
    {
     "name": "stdout",
     "output_type": "stream",
     "text": [
      "    STT  Ma Sinh Vien  Diem Qua Trinh  Diem Cuoi Ky\n",
      "0     1        189456             7.0           4.0\n",
      "1     2        198436             6.0           4.5\n",
      "2     3        208472             8.5           9.0\n",
      "3     4        208473             9.0           6.0\n",
      "4     5        208474             6.5           6.0\n",
      "5     6        208475             8.5           6.0\n",
      "6     7        208476             8.5           7.0\n",
      "7     8        208477             8.0           9.0\n",
      "8     9        208478             8.5           6.5\n",
      "9    10        208479             8.5           6.0\n",
      "10   11        208480             5.0           6.5\n",
      "11   12        208481             5.5           6.0\n",
      "12   13        208482             5.5           8.5\n",
      "13   14        208483             8.5           8.0\n",
      "14   15        208484             6.0           6.0\n",
      "15   16        208485             6.5           6.0\n",
      "16   17        208486             9.0           6.0\n",
      "17   18        208487             8.5           8.0\n",
      "18   19        208488             6.5           6.0\n",
      "19   20        208489             7.0           7.0\n",
      "20   21        208490             8.5           6.0\n",
      "21   22        208491             6.5           7.0\n",
      "22   23        208492             6.0           6.0\n"
     ]
    }
   ],
   "source": [
    "print(df_diem_mon_1)"
   ]
  },
  {
   "cell_type": "code",
   "execution_count": 50,
   "metadata": {},
   "outputs": [
    {
     "name": "stdout",
     "output_type": "stream",
     "text": [
      "    STT  Ma Sinh Vien  Diem Qua Trinh  Diem Cuoi Ky\n",
      "0     1        189456             6.0           4.5\n",
      "1     2        198436             5.0           2.0\n",
      "2     3        208472             8.0           6.0\n",
      "3     4        208473             6.0           6.5\n",
      "4     5        208474             6.0           6.0\n",
      "5     6        208475             6.0           7.0\n",
      "6     7        208476             7.0           6.0\n",
      "7     8        208477             7.0           8.0\n",
      "8     9        208478             6.0           8.0\n",
      "9    10        208479             6.5           6.0\n",
      "10   11        208480             6.0           6.0\n",
      "11   12        208481             8.0           4.5\n",
      "12   13        208482             6.0           9.0\n",
      "13   14        208483             8.5           6.0\n",
      "14   15        208484             8.0           6.0\n",
      "15   16        208485             7.0           6.0\n",
      "16   17        208486             4.0           6.0\n",
      "17   18        208487             6.0           7.0\n",
      "18   19        208488             6.0           9.0\n",
      "19   20        208489             6.0           6.5\n",
      "20   21        208490             6.5           8.5\n",
      "21   22        208491             4.5           6.0\n",
      "22   23        208492             6.0           6.0\n"
     ]
    }
   ],
   "source": [
    "print(df_diem_mon_2)"
   ]
  },
  {
   "cell_type": "code",
   "execution_count": 51,
   "metadata": {},
   "outputs": [
    {
     "name": "stdout",
     "output_type": "stream",
     "text": [
      "    STT  Ma Sinh Vien  Diem Qua Trinh  Diem Cuoi Ky\n",
      "0     1        189456             5.5           3.0\n",
      "1     2        198436             6.0           8.0\n",
      "2     3        208472             8.0           5.0\n",
      "3     4        208473             6.0           6.0\n",
      "4     5        208474             4.5           9.0\n",
      "5     6        208475             9.0           6.0\n",
      "6     7        208476             4.0           4.5\n",
      "7     8        208477             6.5           7.0\n",
      "8     9        208478             4.5           4.5\n",
      "9    10        208479             6.0           6.0\n",
      "10   11        208480             6.0           8.0\n",
      "11   12        208481             6.0           6.0\n",
      "12   13        208482             7.0           7.0\n",
      "13   14        208483             8.0           6.0\n",
      "14   15        208484             3.0           6.0\n",
      "15   16        208485             8.5           6.0\n",
      "16   17        208486             6.0           4.0\n",
      "17   18        208487             6.0           9.0\n",
      "18   19        208488             6.0           6.5\n",
      "19   20        208489             7.0           7.0\n",
      "20   21        208490             9.0           6.0\n",
      "21   22        208491             6.0           6.5\n",
      "22   23        208492             7.0           3.0\n"
     ]
    }
   ],
   "source": [
    "print(df_diem_mon_3)"
   ]
  },
  {
   "cell_type": "code",
   "execution_count": 52,
   "metadata": {},
   "outputs": [
    {
     "name": "stdout",
     "output_type": "stream",
     "text": [
      "    STT  Ma Sinh Vien  Diem Qua Trinh  Diem Cuoi Ky\n",
      "0     1        189456             5.0           3.0\n",
      "1     2        198436             6.5           8.0\n",
      "2     3        208472             1.0           5.0\n",
      "3     4        208473             6.0           6.0\n",
      "4     5        208474             9.0           6.0\n",
      "5     6        208475             6.0           6.5\n",
      "6     7        208476             3.0           3.0\n",
      "7     8        208477             9.0           6.0\n",
      "8     9        208478             8.0           1.0\n",
      "9    10        208479             4.5           6.0\n",
      "10   11        208480             6.0           4.5\n",
      "11   12        208481             8.5           7.0\n",
      "12   13        208482             6.0           6.0\n",
      "13   14        208483             6.5           6.5\n",
      "14   15        208484             7.0           8.5\n",
      "15   16        208485             6.0           4.5\n",
      "16   17        208486             6.0           8.0\n",
      "17   18        208487             7.0           6.0\n",
      "18   19        208488             6.0           6.0\n",
      "19   20        208489             1.0           9.0\n",
      "20   21        208490             4.0           9.0\n",
      "21   22        208491             7.0           7.0\n",
      "22   23        208492             6.0           7.0\n"
     ]
    }
   ],
   "source": [
    "print(df_diem_mon_4)"
   ]
  },
  {
   "cell_type": "code",
   "execution_count": 54,
   "metadata": {},
   "outputs": [
    {
     "name": "stdout",
     "output_type": "stream",
     "text": [
      "    STT  Ma Sinh Vien             Ho Ten  Diem Qua Trinh  Diem Cuoi Ky\n",
      "0     1        189456    Hoang Minh Giam             7.0           4.0\n",
      "1     2        198436    Nguyen Duc Tuan             6.0           4.5\n",
      "2     3        208472   Huynh Minh Thanh             8.5           9.0\n",
      "3     4        208473  Truong Viet Hoang             9.0           6.0\n",
      "4     5        208474   Truong Viet Hung             6.5           6.0\n",
      "5     6        208475   Truong Viet Hang             8.5           6.0\n",
      "6     7        208476   Truong Viet Hoan             8.5           7.0\n",
      "7     8        208477   Truong Van Hoang             8.0           9.0\n",
      "8     9        208478    Truong Van Hung             8.5           6.5\n",
      "9    10        208479    Truong Van Hang             8.5           6.0\n",
      "10   11        208480    Truong Van Hoan             5.0           6.5\n",
      "11   12        208481  Truong Minh Hoang             5.5           6.0\n",
      "12   13        208482   Truong Minh Hung             5.5           8.5\n",
      "13   14        208483   Truong Minh Hang             8.5           8.0\n",
      "14   15        208484   Truong Minh Hoan             6.0           6.0\n",
      "15   16        208485  Truong Minh Hoang             6.5           6.0\n",
      "16   17        208486  Nguyen Viet Hoang             9.0           6.0\n",
      "17   18        208487   Trinh Viet Hoang             8.5           8.0\n",
      "18   19        208488      Le Viet Hoang             6.5           6.0\n",
      "19   20        208489    Tran Viet Hoang             7.0           7.0\n",
      "20   21        208490    Pham Viet Hoang             8.5           6.0\n",
      "21   22        208491     Dao Viet Hoang             6.5           7.0\n",
      "22   23        208492      Vo Viet Hoang             6.0           6.0\n"
     ]
    }
   ],
   "source": [
    "df_diem_mon_1 = df_diem_mon_1.join(df_sinh_vien[['Ho Ten']])[['STT', 'Ma Sinh Vien', 'Ho Ten', 'Diem Qua Trinh', 'Diem Cuoi Ky']]\n",
    "print(df_diem_mon_1)"
   ]
  },
  {
   "cell_type": "code",
   "execution_count": 55,
   "metadata": {},
   "outputs": [
    {
     "name": "stdout",
     "output_type": "stream",
     "text": [
      "    STT  Ma Sinh Vien             Ho Ten  Diem Qua Trinh  Diem Cuoi Ky\n",
      "0     1        189456    Hoang Minh Giam             6.0           4.5\n",
      "1     2        198436    Nguyen Duc Tuan             5.0           2.0\n",
      "2     3        208472   Huynh Minh Thanh             8.0           6.0\n",
      "3     4        208473  Truong Viet Hoang             6.0           6.5\n",
      "4     5        208474   Truong Viet Hung             6.0           6.0\n",
      "5     6        208475   Truong Viet Hang             6.0           7.0\n",
      "6     7        208476   Truong Viet Hoan             7.0           6.0\n",
      "7     8        208477   Truong Van Hoang             7.0           8.0\n",
      "8     9        208478    Truong Van Hung             6.0           8.0\n",
      "9    10        208479    Truong Van Hang             6.5           6.0\n",
      "10   11        208480    Truong Van Hoan             6.0           6.0\n",
      "11   12        208481  Truong Minh Hoang             8.0           4.5\n",
      "12   13        208482   Truong Minh Hung             6.0           9.0\n",
      "13   14        208483   Truong Minh Hang             8.5           6.0\n",
      "14   15        208484   Truong Minh Hoan             8.0           6.0\n",
      "15   16        208485  Truong Minh Hoang             7.0           6.0\n",
      "16   17        208486  Nguyen Viet Hoang             4.0           6.0\n",
      "17   18        208487   Trinh Viet Hoang             6.0           7.0\n",
      "18   19        208488      Le Viet Hoang             6.0           9.0\n",
      "19   20        208489    Tran Viet Hoang             6.0           6.5\n",
      "20   21        208490    Pham Viet Hoang             6.5           8.5\n",
      "21   22        208491     Dao Viet Hoang             4.5           6.0\n",
      "22   23        208492      Vo Viet Hoang             6.0           6.0\n"
     ]
    }
   ],
   "source": [
    "df_diem_mon_2 = df_diem_mon_2.join(df_sinh_vien[['Ho Ten']])[['STT', 'Ma Sinh Vien', 'Ho Ten', 'Diem Qua Trinh', 'Diem Cuoi Ky']]\n",
    "print(df_diem_mon_2)"
   ]
  },
  {
   "cell_type": "code",
   "execution_count": 56,
   "metadata": {},
   "outputs": [
    {
     "name": "stdout",
     "output_type": "stream",
     "text": [
      "    STT  Ma Sinh Vien             Ho Ten  Diem Qua Trinh  Diem Cuoi Ky\n",
      "0     1        189456    Hoang Minh Giam             5.5           3.0\n",
      "1     2        198436    Nguyen Duc Tuan             6.0           8.0\n",
      "2     3        208472   Huynh Minh Thanh             8.0           5.0\n",
      "3     4        208473  Truong Viet Hoang             6.0           6.0\n",
      "4     5        208474   Truong Viet Hung             4.5           9.0\n",
      "5     6        208475   Truong Viet Hang             9.0           6.0\n",
      "6     7        208476   Truong Viet Hoan             4.0           4.5\n",
      "7     8        208477   Truong Van Hoang             6.5           7.0\n",
      "8     9        208478    Truong Van Hung             4.5           4.5\n",
      "9    10        208479    Truong Van Hang             6.0           6.0\n",
      "10   11        208480    Truong Van Hoan             6.0           8.0\n",
      "11   12        208481  Truong Minh Hoang             6.0           6.0\n",
      "12   13        208482   Truong Minh Hung             7.0           7.0\n",
      "13   14        208483   Truong Minh Hang             8.0           6.0\n",
      "14   15        208484   Truong Minh Hoan             3.0           6.0\n",
      "15   16        208485  Truong Minh Hoang             8.5           6.0\n",
      "16   17        208486  Nguyen Viet Hoang             6.0           4.0\n",
      "17   18        208487   Trinh Viet Hoang             6.0           9.0\n",
      "18   19        208488      Le Viet Hoang             6.0           6.5\n",
      "19   20        208489    Tran Viet Hoang             7.0           7.0\n",
      "20   21        208490    Pham Viet Hoang             9.0           6.0\n",
      "21   22        208491     Dao Viet Hoang             6.0           6.5\n",
      "22   23        208492      Vo Viet Hoang             7.0           3.0\n"
     ]
    }
   ],
   "source": [
    "df_diem_mon_3 = df_diem_mon_3.join(df_sinh_vien[['Ho Ten']])[['STT', 'Ma Sinh Vien', 'Ho Ten', 'Diem Qua Trinh', 'Diem Cuoi Ky']]\n",
    "print(df_diem_mon_3)"
   ]
  },
  {
   "cell_type": "code",
   "execution_count": 57,
   "metadata": {},
   "outputs": [
    {
     "name": "stdout",
     "output_type": "stream",
     "text": [
      "    STT  Ma Sinh Vien             Ho Ten  Diem Qua Trinh  Diem Cuoi Ky\n",
      "0     1        189456    Hoang Minh Giam             5.0           3.0\n",
      "1     2        198436    Nguyen Duc Tuan             6.5           8.0\n",
      "2     3        208472   Huynh Minh Thanh             1.0           5.0\n",
      "3     4        208473  Truong Viet Hoang             6.0           6.0\n",
      "4     5        208474   Truong Viet Hung             9.0           6.0\n",
      "5     6        208475   Truong Viet Hang             6.0           6.5\n",
      "6     7        208476   Truong Viet Hoan             3.0           3.0\n",
      "7     8        208477   Truong Van Hoang             9.0           6.0\n",
      "8     9        208478    Truong Van Hung             8.0           1.0\n",
      "9    10        208479    Truong Van Hang             4.5           6.0\n",
      "10   11        208480    Truong Van Hoan             6.0           4.5\n",
      "11   12        208481  Truong Minh Hoang             8.5           7.0\n",
      "12   13        208482   Truong Minh Hung             6.0           6.0\n",
      "13   14        208483   Truong Minh Hang             6.5           6.5\n",
      "14   15        208484   Truong Minh Hoan             7.0           8.5\n",
      "15   16        208485  Truong Minh Hoang             6.0           4.5\n",
      "16   17        208486  Nguyen Viet Hoang             6.0           8.0\n",
      "17   18        208487   Trinh Viet Hoang             7.0           6.0\n",
      "18   19        208488      Le Viet Hoang             6.0           6.0\n",
      "19   20        208489    Tran Viet Hoang             1.0           9.0\n",
      "20   21        208490    Pham Viet Hoang             4.0           9.0\n",
      "21   22        208491     Dao Viet Hoang             7.0           7.0\n",
      "22   23        208492      Vo Viet Hoang             6.0           7.0\n"
     ]
    }
   ],
   "source": [
    "df_diem_mon_4 = df_diem_mon_4.join(df_sinh_vien[['Ho Ten']])[['STT', 'Ma Sinh Vien', 'Ho Ten', 'Diem Qua Trinh', 'Diem Cuoi Ky']]\n",
    "print(df_diem_mon_4)"
   ]
  },
  {
   "cell_type": "code",
   "execution_count": null,
   "metadata": {},
   "outputs": [],
   "source": []
  }
 ],
 "metadata": {
  "kernelspec": {
   "display_name": "Python 3",
   "language": "python",
   "name": "python3"
  },
  "language_info": {
   "codemirror_mode": {
    "name": "ipython",
    "version": 3
   },
   "file_extension": ".py",
   "mimetype": "text/x-python",
   "name": "python",
   "nbconvert_exporter": "python",
   "pygments_lexer": "ipython3",
   "version": "3.12.2"
  }
 },
 "nbformat": 4,
 "nbformat_minor": 2
}
