{
 "cells": [
  {
   "cell_type": "code",
   "execution_count": 1,
   "metadata": {},
   "outputs": [],
   "source": [
    "import pandas as pd\n"
   ]
  },
  {
   "cell_type": "code",
   "execution_count": 2,
   "metadata": {},
   "outputs": [
    {
     "name": "stdout",
     "output_type": "stream",
     "text": [
      "    STT  Ma Sinh Vien             Ho Ten  Ngay Sinh Gioi Tinh Lop Quan Ly\n",
      "0     1        189456    Hoang Minh Giam 2003-05-11       Nam       66PM1\n",
      "1     2        198436    Nguyen Duc Tuan 2003-06-17       Nam       66PM5\n",
      "2     3        208472   Huynh Minh Thanh 2003-01-21       Nam      66MHT1\n",
      "3     4        208473  Truong Viet Hoang 2003-01-22        Nu      66MHT2\n",
      "4     5        208474   Truong Viet Hung 2003-01-23       Nam      66MHT2\n",
      "5     6        208475   Truong Viet Hang 2003-01-24        Nu      66MHT2\n",
      "6     7        208476   Truong Viet Hoan 2003-01-25       Nam      66MHT1\n",
      "7     8        208477   Truong Van Hoang 2003-01-26       Nam      66MHT1\n",
      "8     9        208478    Truong Van Hung 2003-01-27        Nu      66MHT2\n",
      "9    10        208479    Truong Van Hang 2003-01-28        Nu      66MHT1\n",
      "10   11        208480    Truong Van Hoan 2003-01-29       Nam       66PM1\n",
      "11   12        208481  Truong Minh Hoang 2003-01-30        Nu       66PM1\n",
      "12   13        208482   Truong Minh Hung 2003-01-31        Nu       66PM5\n",
      "13   14        208483   Truong Minh Hang 2003-02-01       Nam       66PM5\n",
      "14   15        208484   Truong Minh Hoan 2003-02-02       Nam       66PM1\n",
      "15   16        208485  Truong Minh Hoang 2003-02-03       Nam      66MHT2\n",
      "16   17        208486  Nguyen Viet Hoang 2003-02-04        Nu       66PM1\n",
      "17   18        208487   Trinh Viet Hoang 2003-02-05       Nam       66PM1\n",
      "18   19        208488      Le Viet Hoang 2003-02-06        Nu      66MHT2\n",
      "19   20        208489    Tran Viet Hoang 2003-02-07       Nam       66PM5\n",
      "20   21        208490    Pham Viet Hoang 2003-02-08       Nam      66MHT2\n",
      "21   22        208491     Dao Viet Hoang 2003-02-09        Nu       66PM5\n",
      "22   23        208492      Vo Viet Hoang 2003-02-10        Nu       66PM5\n",
      "    STT  Ma Sinh Vien  Diem Qua Trinh  Diem Cuoi Ky\n",
      "0     1        189456             7.0           4.0\n",
      "1     2        198436             6.0           4.5\n",
      "2     3        208472             8.5           9.0\n",
      "3     4        208473             9.0           6.0\n",
      "4     5        208474             6.5           6.0\n",
      "5     6        208475             8.5           6.0\n",
      "6     7        208476             8.5           7.0\n",
      "7     8        208477             8.0           9.0\n",
      "8     9        208478             8.5           6.5\n",
      "9    10        208479             8.5           6.0\n",
      "10   11        208480             5.0           6.5\n",
      "11   12        208481             5.5           6.0\n",
      "12   13        208482             5.5           8.5\n",
      "13   14        208483             8.5           8.0\n",
      "14   15        208484             6.0           6.0\n",
      "15   16        208485             6.5           6.0\n",
      "16   17        208486             9.0           6.0\n",
      "17   18        208487             8.5           8.0\n",
      "18   19        208488             6.5           6.0\n",
      "19   20        208489             7.0           7.0\n",
      "20   21        208490             8.5           6.0\n",
      "21   22        208491             6.5           7.0\n",
      "22   23        208492             6.0           6.0\n"
     ]
    }
   ],
   "source": [
    "\n",
    "data = pd.read_excel('DuLieuThucHanh2_66PM34_GuiSV_V1.xlsx', sheet_name=None)\n",
    "\n",
    "df_sinh_vien = data['Sinh Vien']\n",
    "df_diem_mon_1 = data['Diem Mon 1']\n",
    "df_diem_mon_2 = data['Diem Mon 2']\n",
    "df_diem_mon_3 = data['Diem Mon 3']\n",
    "df_diem_mon_4 = data['Diem Mon 4']\n",
    "\n",
    "print(df_sinh_vien)\n",
    "print(df_diem_mon_1)"
   ]
  }
 ],
 "metadata": {
  "kernelspec": {
   "display_name": "Python 3",
   "language": "python",
   "name": "python3"
  },
  "language_info": {
   "codemirror_mode": {
    "name": "ipython",
    "version": 3
   },
   "file_extension": ".py",
   "mimetype": "text/x-python",
   "name": "python",
   "nbconvert_exporter": "python",
   "pygments_lexer": "ipython3",
   "version": "3.12.2"
  }
 },
 "nbformat": 4,
 "nbformat_minor": 2
}
